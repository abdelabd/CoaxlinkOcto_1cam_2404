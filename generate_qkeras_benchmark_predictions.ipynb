{
 "cells": [
  {
   "cell_type": "code",
   "execution_count": 1,
   "metadata": {},
   "outputs": [
    {
     "name": "stderr",
     "output_type": "stream",
     "text": [
      "2025-07-31 17:26:38.594904: I tensorflow/core/platform/cpu_feature_guard.cc:193] This TensorFlow binary is optimized with oneAPI Deep Neural Network Library (oneDNN) to use the following CPU instructions in performance-critical operations:  AVX2 AVX_VNNI FMA\n",
      "To enable them in other operations, rebuild TensorFlow with the appropriate compiler flags.\n",
      "2025-07-31 17:26:38.685612: I tensorflow/core/util/port.cc:104] oneDNN custom operations are on. You may see slightly different numerical results due to floating-point round-off errors from different computation orders. To turn them off, set the environment variable `TF_ENABLE_ONEDNN_OPTS=0`.\n",
      "2025-07-31 17:26:38.688573: W tensorflow/compiler/xla/stream_executor/platform/default/dso_loader.cc:64] Could not load dynamic library 'libcudart.so.11.0'; dlerror: libcudart.so.11.0: cannot open shared object file: No such file or directory\n",
      "2025-07-31 17:26:38.688590: I tensorflow/compiler/xla/stream_executor/cuda/cudart_stub.cc:29] Ignore above cudart dlerror if you do not have a GPU set up on your machine.\n",
      "2025-07-31 17:26:39.124969: W tensorflow/compiler/xla/stream_executor/platform/default/dso_loader.cc:64] Could not load dynamic library 'libnvinfer.so.7'; dlerror: libnvinfer.so.7: cannot open shared object file: No such file or directory\n",
      "2025-07-31 17:26:39.125046: W tensorflow/compiler/xla/stream_executor/platform/default/dso_loader.cc:64] Could not load dynamic library 'libnvinfer_plugin.so.7'; dlerror: libnvinfer_plugin.so.7: cannot open shared object file: No such file or directory\n",
      "2025-07-31 17:26:39.125052: W tensorflow/compiler/tf2tensorrt/utils/py_utils.cc:38] TF-TRT Warning: Cannot dlopen some TensorRT libraries. If you would like to use Nvidia GPU with TensorRT, please make sure the missing libraries mentioned above are installed properly.\n"
     ]
    },
    {
     "name": "stdout",
     "output_type": "stream",
     "text": [
      "WARNING: Failed to import handlers from core.py: No module named 'torch'.\n",
      "WARNING: Failed to import handlers from convolution.py: No module named 'torch'.\n",
      "WARNING: Failed to import handlers from pooling.py: No module named 'torch'.\n",
      "WARNING: Failed to import handlers from recurrent.py: No module named 'torch'.\n",
      "WARNING: Failed to import handlers from reshape.py: No module named 'torch'.\n",
      "WARNING: Failed to import handlers from merge.py: No module named 'torch'.\n"
     ]
    },
    {
     "name": "stderr",
     "output_type": "stream",
     "text": [
      "/home/aelabd/RHEED/hls4ml/hls4ml/converters/__init__.py:29: UserWarning: WARNING: Pytorch converter is not enabled!\n",
      "  warnings.warn(\"WARNING: Pytorch converter is not enabled!\", stacklevel=1)\n"
     ]
    }
   ],
   "source": [
    "import os\n",
    "import copy\n",
    "from pathlib import Path\n",
    "import json\n",
    "import numpy as np\n",
    "import matplotlib.pyplot as plt\n",
    "from tqdm import tqdm\n",
    "import itertools\n",
    "\n",
    "import tensorflow as tf\n",
    "from tensorflow.keras import layers\n",
    "from tensorflow.keras.models import Model, Sequential\n",
    "\n",
    "import hls4ml\n",
    "from hls4ml.converters.keras_to_hls import parse_default_keras_layer\n",
    "from hls4ml.model.attributes import ConfigurableAttribute, TypeAttribute\n",
    "from hls4ml.model.types import FixedPrecisionType, RoundingMode, SaturationMode\n",
    "from hls4ml.model.attributes import Attribute\n",
    "\n",
    "import h5py\n",
    "\n",
    "import qkeras as qk\n",
    "from qkeras.estimate import print_qstats\n",
    "from qkeras.utils import model_quantize\n",
    "from qkeras.utils import quantized_model_dump\n",
    "from qkeras import QActivation, QDense, QConv2DBatchnorm\n",
    "\n",
    "# Source the Vivado path\n",
    "os.environ['PATH'] = os.environ['XILINX_VIVADO'] + '/bin:' + os.environ['PATH']\n",
    "\n",
    "np.random.seed(0)\n",
    "tf.random.set_seed(0)\n"
   ]
  },
  {
   "cell_type": "markdown",
   "metadata": {},
   "source": [
    "Helper functions"
   ]
  },
  {
   "cell_type": "code",
   "execution_count": 2,
   "metadata": {},
   "outputs": [],
   "source": [
    "from qkeras.autoqkeras.utils import print_qmodel_summary\n",
    "\n",
    "def generate_binary_numbers(n_bits):\n",
    "    return np.array([''.join(bits) for bits in itertools.product('01', repeat=n_bits)])\n",
    "\n",
    "\n",
    "def ap_fixed_bin_to_float(bin_str: str, X: int, Y: int) -> np.float32:\n",
    "    \"\"\"\n",
    "    Converts a binary string in two's complement ap_fixed<X,Y> format to a float.\n",
    "    \n",
    "    Parameters:\n",
    "        bin_str (str): Binary string of length X.\n",
    "        X (int): Total number of bits.\n",
    "        Y (int): Number of integer bits (including sign bit).\n",
    "        \n",
    "    Returns:\n",
    "        np.float32: Floating point value.\n",
    "    \"\"\"\n",
    "    if len(bin_str) != X:\n",
    "        raise ValueError(f\"Binary string length ({len(bin_str)}) must match X ({X})\")\n",
    "    \n",
    "    # Interpret binary string as signed integer\n",
    "    int_val = int(bin_str, 2)\n",
    "    if bin_str[0] == '1':  # Negative number (two's complement)\n",
    "        int_val -= (1 << X)\n",
    "    \n",
    "    # Scale back by number of fractional bits\n",
    "    frac_bits = X - Y\n",
    "    value = int_val / (2 ** frac_bits)\n",
    "    return np.float32(value)\n",
    "\n",
    "def ap_ufixed_bin_to_float(bin_str: str, X: int, Y: int) -> np.float32:\n",
    "    \"\"\"\n",
    "    Converts a binary string in two's complement ap_fixed<X,Y> format to a float.\n",
    "    \n",
    "    Parameters:\n",
    "        bin_str (str): Binary string of length X.\n",
    "        X (int): Total number of bits.\n",
    "        Y (int): Number of integer bits (including sign bit).\n",
    "        \n",
    "    Returns:\n",
    "        np.float32: Floating point value.\n",
    "    \"\"\"\n",
    "\n",
    "    if bin_str[0] == '1':\n",
    "        return ap_fixed_bin_to_float(\"0\"+bin_str, X+1, Y+1)\n",
    "    else:\n",
    "        return ap_fixed_bin_to_float(bin_str, X, Y)\n",
    "\n",
    "\n",
    "def float_to_ap_fixed(value, X, Y):\n",
    "    \"\"\"\n",
    "    Converts a float to a binary string representing a signed ap_fixed<X,Y> number.\n",
    "    \n",
    "    Parameters:\n",
    "        value (float): The float value to convert.\n",
    "        X (int): Total number of bits.\n",
    "        Y (int): Number of integer bits (including sign bit).\n",
    "    \n",
    "    Returns:\n",
    "        str: Binary string of length X.\n",
    "    \"\"\"\n",
    "    # Number of fractional bits\n",
    "    F = X - Y\n",
    "\n",
    "    # Compute scaled integer\n",
    "    scaled = int(round(value * (2 ** F)))\n",
    "\n",
    "    # Calculate min and max representable values\n",
    "    min_val = -(2 ** (X - 1))\n",
    "    max_val = (2 ** (X - 1)) - 1\n",
    "\n",
    "    # Clip to representable range\n",
    "    if scaled < min_val:\n",
    "        scaled = min_val\n",
    "    elif scaled > max_val:\n",
    "        scaled = max_val\n",
    "\n",
    "    # Convert to two's complement binary\n",
    "    if scaled < 0:\n",
    "        scaled = (1 << X) + scaled  # two's complement\n",
    "\n",
    "    bin_str = format(scaled, f'0{X}b')  # zero-padded binary string of width X\n",
    "    return bin_str\n",
    "\n",
    "def ap_ufixed_hex_to_float(hex_str: str, X: int, Y: int):\n",
    "    bin_str = bin(int(hex_str, 16)).replace(\"0b\", \"\")\n",
    "    n = len(bin_str)\n",
    "    while n < X:\n",
    "        bin_str = \"0\" + bin_str\n",
    "        n = len(bin_str)\n",
    "    return ap_ufixed_bin_to_float(bin_str, X, Y)"
   ]
  },
  {
   "cell_type": "markdown",
   "metadata": {},
   "source": [
    "# 1. Load Keras model"
   ]
  },
  {
   "cell_type": "code",
   "execution_count": 3,
   "metadata": {},
   "outputs": [
    {
     "name": "stderr",
     "output_type": "stream",
     "text": [
      "2025-07-31 17:26:41.682129: I tensorflow/compiler/xla/stream_executor/cuda/cuda_gpu_executor.cc:967] could not open file to read NUMA node: /sys/bus/pci/devices/0000:01:00.0/numa_node\n",
      "Your kernel may have been built without NUMA support.\n",
      "2025-07-31 17:26:41.682434: W tensorflow/compiler/xla/stream_executor/platform/default/dso_loader.cc:64] Could not load dynamic library 'libcudart.so.11.0'; dlerror: libcudart.so.11.0: cannot open shared object file: No such file or directory\n",
      "2025-07-31 17:26:41.682661: W tensorflow/compiler/xla/stream_executor/platform/default/dso_loader.cc:64] Could not load dynamic library 'libcublas.so.11'; dlerror: libcublas.so.11: cannot open shared object file: No such file or directory\n",
      "2025-07-31 17:26:41.682819: W tensorflow/compiler/xla/stream_executor/platform/default/dso_loader.cc:64] Could not load dynamic library 'libcublasLt.so.11'; dlerror: libcublasLt.so.11: cannot open shared object file: No such file or directory\n",
      "2025-07-31 17:26:41.682940: W tensorflow/compiler/xla/stream_executor/platform/default/dso_loader.cc:64] Could not load dynamic library 'libcufft.so.10'; dlerror: libcufft.so.10: cannot open shared object file: No such file or directory\n",
      "2025-07-31 17:26:41.683047: W tensorflow/compiler/xla/stream_executor/platform/default/dso_loader.cc:64] Could not load dynamic library 'libcurand.so.10'; dlerror: libcurand.so.10: cannot open shared object file: No such file or directory\n",
      "2025-07-31 17:26:41.683149: W tensorflow/compiler/xla/stream_executor/platform/default/dso_loader.cc:64] Could not load dynamic library 'libcusolver.so.11'; dlerror: libcusolver.so.11: cannot open shared object file: No such file or directory\n",
      "2025-07-31 17:26:41.683283: W tensorflow/compiler/xla/stream_executor/platform/default/dso_loader.cc:64] Could not load dynamic library 'libcusparse.so.11'; dlerror: libcusparse.so.11: cannot open shared object file: No such file or directory\n",
      "2025-07-31 17:26:41.683397: W tensorflow/compiler/xla/stream_executor/platform/default/dso_loader.cc:64] Could not load dynamic library 'libcudnn.so.8'; dlerror: libcudnn.so.8: cannot open shared object file: No such file or directory\n",
      "2025-07-31 17:26:41.683419: W tensorflow/core/common_runtime/gpu/gpu_device.cc:1934] Cannot dlopen some GPU libraries. Please make sure the missing libraries mentioned above are installed properly if you would like to use GPU. Follow the guide at https://www.tensorflow.org/install/gpu for how to download and setup the required libraries for your platform.\n",
      "Skipping registering GPU devices...\n",
      "2025-07-31 17:26:41.685444: I tensorflow/core/platform/cpu_feature_guard.cc:193] This TensorFlow binary is optimized with oneAPI Deep Neural Network Library (oneDNN) to use the following CPU instructions in performance-critical operations:  AVX2 AVX_VNNI FMA\n",
      "To enable them in other operations, rebuild TensorFlow with the appropriate compiler flags.\n"
     ]
    },
    {
     "name": "stdout",
     "output_type": "stream",
     "text": [
      "WARNING:tensorflow:From /home/aelabd/miniconda3/envs/rheed_hls4ml_dev/lib/python3.10/site-packages/tensorflow/python/autograph/pyct/static_analysis/liveness.py:83: Analyzer.lamba_check (from tensorflow.python.autograph.pyct.static_analysis.liveness) is deprecated and will be removed after 2023-09-23.\n",
      "Instructions for updating:\n",
      "Lambda fuctions will be no more assumed to be used in the statement where they are used, or at least in the same block. https://github.com/tensorflow/tensorflow/issues/56089\n"
     ]
    },
    {
     "name": "stderr",
     "output_type": "stream",
     "text": [
      "WARNING:tensorflow:From /home/aelabd/miniconda3/envs/rheed_hls4ml_dev/lib/python3.10/site-packages/tensorflow/python/autograph/pyct/static_analysis/liveness.py:83: Analyzer.lamba_check (from tensorflow.python.autograph.pyct.static_analysis.liveness) is deprecated and will be removed after 2023-09-23.\n",
      "Instructions for updating:\n",
      "Lambda fuctions will be no more assumed to be used in the statement where they are used, or at least in the same block. https://github.com/tensorflow/tensorflow/issues/56089\n"
     ]
    },
    {
     "name": "stdout",
     "output_type": "stream",
     "text": [
      "q_conv2d_batchnorm   f=6 quantized_bits(8,0,0,alpha=1) quantized_bits(8,0,0,alpha=1) \n",
      "q_activation         quantized_relu(8, 2)\n",
      "q_conv2d_batchnorm_1 f=8 quantized_bits(8,2,0,alpha=1) quantized_bits(8,2,0,alpha=1) \n",
      "q_activation_1       quantized_relu(8, 2)\n",
      "q_conv2d_batchnorm_2 f=10 quantized_bits(8,2,0,alpha=1) quantized_bits(8,2,0,alpha=1) \n",
      "q_activation_2       quantized_relu(8, 2)\n",
      "q_dense              u=15 quantized_bits(8,2,0,alpha=1) quantized_bits(8,2,0,alpha=1) \n",
      "q_activation_3       quantized_relu(8, 2)\n",
      "q_dense_1            u=10 quantized_bits(8,2,0,alpha=1) quantized_bits(8,2,0,alpha=1) \n",
      "q_activation_4       quantized_relu(8, 2)\n",
      "q_dense_2            u=5 quantized_bits(8,2,0,alpha=1) quantized_bits(8,2,0,alpha=1) \n",
      "\n"
     ]
    }
   ],
   "source": [
    "KERAS_DIR = \"/home/aelabd/RHEED/keras_models\"\n",
    "\n",
    "def dice_loss(y_true, y_pred, delta=0.6):\n",
    "    error = y_true - y_pred\n",
    "    is_small = tf.abs(error) <= delta\n",
    "    squared_loss = 0.5 * tf.square(error)\n",
    "    linear_loss = delta * (tf.abs(error) - 0.5 * delta)\n",
    "    return tf.reduce_mean(tf.where(is_small, squared_loss, linear_loss))\n",
    "\n",
    "fpath_model_keras = os.path.join(KERAS_DIR, \"model_good1.keras\")\n",
    "with tf.keras.utils.custom_object_scope({'dice_loss': dice_loss,\n",
    "                                         'QConv2DBatchnorm': QConv2DBatchnorm,\n",
    "                                         'QActivation': QActivation,\n",
    "                                         'QDense': QDense\n",
    "                                         }):\n",
    "        model = tf.keras.models.load_model(fpath_model_keras)\n",
    "\n",
    "print_qmodel_summary(model)"
   ]
  },
  {
   "cell_type": "markdown",
   "metadata": {},
   "source": [
    "# 2. Load testbench input data"
   ]
  },
  {
   "cell_type": "code",
   "execution_count": 4,
   "metadata": {},
   "outputs": [
    {
     "name": "stdout",
     "output_type": "stream",
     "text": [
      "[min, max]  = [0.0, 0.96875]\n"
     ]
    },
    {
     "data": {
      "image/png": "[encoded data removed]",
      "text/plain": [
       "<Figure size 640x480 with 2 Axes>"
      ]
     },
     "metadata": {},
     "output_type": "display_data"
    },
    {
     "name": "stdout",
     "output_type": "stream",
     "text": [
      "[min, max]  = [0.02734375, 0.96875]\n"
     ]
    },
    {
     "data": {
      "image/png": "[encoded data removed]",
      "text/plain": [
       "<Figure size 640x480 with 2 Axes>"
      ]
     },
     "metadata": {},
     "output_type": "display_data"
    },
    {
     "name": "stdout",
     "output_type": "stream",
     "text": [
      "[min, max]  = [0.3125, 0.9765625]\n"
     ]
    },
    {
     "data": {
      "image/png": "[encoded data removed]",
      "text/plain": [
       "<Figure size 640x480 with 2 Axes>"
      ]
     },
     "metadata": {},
     "output_type": "display_data"
    },
    {
     "name": "stdout",
     "output_type": "stream",
     "text": [
      "[min, max]  = [0.4765625, 0.984375]\n"
     ]
    },
    {
     "data": {
      "image/png": "[encoded data removed]",
      "text/plain": [
       "<Figure size 640x480 with 2 Axes>"
      ]
     },
     "metadata": {},
     "output_type": "display_data"
    },
    {
     "name": "stdout",
     "output_type": "stream",
     "text": [
      "[min, max]  = [0.8671875, 0.99609375]\n"
     ]
    },
    {
     "data": {
      "image/png": "[encoded data removed]",
      "text/plain": [
       "<Figure size 640x480 with 2 Axes>"
      ]
     },
     "metadata": {},
     "output_type": "display_data"
    }
   ],
   "source": [
    "IN_ROWS = 300\n",
    "IN_COLS = 320\n",
    "OUT_ROWS = 48\n",
    "OUT_COLS = 48\n",
    "NUM_CROPS = 5\n",
    "data_dir = f\"tb_data_Mono8/{IN_ROWS}x{IN_COLS}_to_{OUT_ROWS}x{OUT_COLS}x{NUM_CROPS}\"\n",
    "\n",
    "CROP_COORDS = [(0,0), (0,30), (20,0), (40,40), (252,272)] # (Y0, X0)\n",
    "# input_data = {f\"y0_{y0}_x0_{x0}\": {} for (y0, x0) in CROP_COORDS}\n",
    "input_data = {}\n",
    "for (y0,x0) in CROP_COORDS:\n",
    "    crop_data = []\n",
    "    fpath = os.path.join(data_dir, f\"Y1_{y0}_X1_{x0}/HDL_cropnorm_out.txt\")\n",
    "    with open(fpath, \"r\") as f:\n",
    "        for line in f.readlines():\n",
    "\n",
    "            line_float = np.zeros((OUT_COLS,))\n",
    "            for i, hex_str in enumerate(line.split(\" \")):\n",
    "                hex_str_clean = hex_str.replace(\"\\n\", \"\").replace(\" \", \"\")\n",
    "                if len(hex_str_clean) < 1: continue\n",
    "                line_float[i] = ap_ufixed_hex_to_float(hex_str_clean, 8, 0)\n",
    "\n",
    "            crop_data.append(line_float)\n",
    "\n",
    "    input_data_float = np.expand_dims(np.expand_dims(np.array(crop_data), 0), 3)\n",
    "    input_data[f\"y1_{y0}_x1_{x0}\"] = input_data_float\n",
    "\n",
    "    print(f\"[min, max]  = [{np.min(np.min(input_data_float[0,:,:,0], axis=0), axis=0)}, {np.max(np.max(input_data_float[0,:,:,0], axis=0), axis=0)}]\")\n",
    "    plt.figure()\n",
    "    plt.imshow(input_data_float[0,:,:,0], vmin=0, vmax=1, cmap=\"hot\")\n",
    "    plt.colorbar()\n",
    "    plt.show()\n",
    "    plt.close()"
   ]
  },
  {
   "cell_type": "markdown",
   "metadata": {},
   "source": [
    "# 3. Generate predictions"
   ]
  },
  {
   "cell_type": "code",
   "execution_count": 5,
   "metadata": {},
   "outputs": [],
   "source": [
    "TOTAL_BITS = 22\n",
    "INT_BITS = 11"
   ]
  },
  {
   "cell_type": "code",
   "execution_count": 6,
   "metadata": {},
   "outputs": [
    {
     "name": "stdout",
     "output_type": "stream",
     "text": [
      "y0=0, x0=0\n",
      "1/1 [==============================] - 0s 450ms/step\n",
      "val: 0.3994140625, bin_str: 0000000000001100110010\n",
      "val: 0.5810546875, bin_str: 0000000000010010100110\n",
      "val: 0.72265625, bin_str: 0000000000010111001000\n",
      "val: 0.5009765625, bin_str: 0000000000010000000010\n",
      "val: 0.02880859375, bin_str: 0000000000000000111011\n",
      "y0=0, x0=30\n",
      "1/1 [==============================] - 0s 17ms/step\n",
      "val: 0.3935546875, bin_str: 0000000000001100100110\n",
      "val: 0.6064453125, bin_str: 0000000000010011011010\n",
      "val: 0.734375, bin_str: 0000000000010111100000\n",
      "val: 0.4990234375, bin_str: 0000000000001111111110\n",
      "val: 0.02685546875, bin_str: 0000000000000000110111\n",
      "y0=20, x0=0\n",
      "1/1 [==============================] - 0s 17ms/step\n",
      "val: 0.318359375, bin_str: 0000000000001010001100\n",
      "val: 0.61376953125, bin_str: 0000000000010011101001\n",
      "val: 0.8427734375, bin_str: 0000000000011010111110\n",
      "val: 0.587890625, bin_str: 0000000000010010110100\n",
      "val: 0.16748046875, bin_str: 0000000000000101010111\n",
      "y0=40, x0=40\n",
      "1/1 [==============================] - 0s 19ms/step\n",
      "val: 0.529296875, bin_str: 0000000000010000111100\n",
      "val: 0.4443359375, bin_str: 0000000000001110001110\n",
      "val: 0.7939453125, bin_str: 0000000000011001011010\n",
      "val: 0.57666015625, bin_str: 0000000000010010011101\n",
      "val: 0.07861328125, bin_str: 0000000000000010100001\n",
      "y0=252, x0=272\n",
      "1/1 [==============================] - 0s 17ms/step\n",
      "val: 0.42431640625, bin_str: 0000000000001101100101\n",
      "val: 0.38525390625, bin_str: 0000000000001100010101\n",
      "val: 0.82470703125, bin_str: 0000000000011010011001\n",
      "val: 0.62451171875, bin_str: 0000000000010011111111\n",
      "val: 0.3203125, bin_str: 0000000000001010010000\n"
     ]
    }
   ],
   "source": [
    "pred_data = {}\n",
    "output_data = {}\n",
    "for (y0,x0) in CROP_COORDS:\n",
    "    print(f\"y0={y0}, x0={x0}\")\n",
    "    pred = model.predict(input_data[f\"y1_{y0}_x1_{x0}\"])[0]\n",
    "    pred_data[f\"y1_{y0}_x1_{x0}\"] = pred\n",
    "    fpath_txt = os.path.join(data_dir, f\"Y1_{y0}_X1_{x0}/QKeras_mg1_pred_ap_fixed_{TOTAL_BITS}_{INT_BITS}.txt\")\n",
    "    with open(fpath_txt, \"w\") as f:\n",
    "        for val in pred:\n",
    "            bin_str = float_to_ap_fixed(val, TOTAL_BITS, INT_BITS)\n",
    "            f.write(f\"{bin_str}\\n\")\n",
    "            print(f\"val: {val}, bin_str: {bin_str}\")"
   ]
  },
  {
   "cell_type": "code",
   "execution_count": null,
   "metadata": {},
   "outputs": [],
   "source": []
  }
 ],
 "metadata": {
  "kernelspec": {
   "display_name": "rheed_hls4ml_dev",
   "language": "python",
   "name": "python3"
  },
  "language_info": {
   "codemirror_mode": {
    "name": "ipython",
    "version": 3
   },
   "file_extension": ".py",
   "mimetype": "text/x-python",
   "name": "python",
   "nbconvert_exporter": "python",
   "pygments_lexer": "ipython3",
   "version": "3.10.15"
  }
 },
 "nbformat": 4,
 "nbformat_minor": 2
}
